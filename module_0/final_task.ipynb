{
 "cells": [
  {
   "cell_type": "code",
   "execution_count": 1,
   "metadata": {},
   "outputs": [
    {
     "name": "stdout",
     "output_type": "stream",
     "text": [
      "Ваш алгоритм угадывает число в среднем за 5 попыток\n"
     ]
    },
    {
     "data": {
      "text/plain": [
       "5"
      ]
     },
     "execution_count": 1,
     "metadata": {},
     "output_type": "execute_result"
    }
   ],
   "source": [
    "import numpy as np\n",
    "def guess_number(number):\n",
    "    '''\n",
    "    Эта функция вычисляет число итераций до совпадения с number методом бинарного поиска\n",
    "    '''\n",
    "    count = 1\n",
    "    predict = 50 # в первом шаге\n",
    "    left = 1 # левая граница\n",
    "    right = 101 # правая граница\n",
    "    #print(f\"число {number}:\")\n",
    "    while predict != number and left <= right:\n",
    "        #print(f\"попытка{count}: {predict} \")\n",
    "        count += 1\n",
    "        if number > predict:\n",
    "            left = predict + 1\n",
    "        else:\n",
    "            right = predict - 1\n",
    "        predict = (left + right) // 2\n",
    "    #print(f\"попытка {count}: загаданное число = {predict}\")    \n",
    "    return(count) # выход из цикла, если угадали\n",
    "def score_game(func):\n",
    "    '''\n",
    "    Эта функция находит среднее число попыток\n",
    "    '''\n",
    "    count_ls = []\n",
    "    np.random.seed(1)  # фиксируем RANDOM SEED, чтобы ваш эксперимент был воспроизводим!    \n",
    "    random_array = np.random.randint(1,101, size=(1000))\n",
    "    #print(random_array)\n",
    "    for number in random_array:\n",
    "        count_ls.append(func(number))\n",
    "    score = int(np.mean(count_ls))\n",
    "    print(f\"Ваш алгоритм угадывает число в среднем за {score} попыток\")\n",
    "    return(score)\n",
    "score_game(guess_number)"
   ]
  },
  {
   "cell_type": "code",
   "execution_count": null,
   "metadata": {},
   "outputs": [],
   "source": []
  }
 ],
 "metadata": {
  "kernelspec": {
   "display_name": "Python 3",
   "language": "python",
   "name": "python3"
  },
  "language_info": {
   "codemirror_mode": {
    "name": "ipython",
    "version": 3
   },
   "file_extension": ".py",
   "mimetype": "text/x-python",
   "name": "python",
   "nbconvert_exporter": "python",
   "pygments_lexer": "ipython3",
   "version": "3.8.3"
  }
 },
 "nbformat": 4,
 "nbformat_minor": 4
}
