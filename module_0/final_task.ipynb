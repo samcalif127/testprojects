{
 "cells": [
  {
   "cell_type": "code",
   "execution_count": 2,
   "metadata": {},
   "outputs": [
    {
     "name": "stdout",
     "output_type": "stream",
     "text": [
      "Ваш алгоритм угадывает число в среднем за 5 попыток\n"
     ]
    },
    {
     "data": {
      "text/plain": [
       "5"
      ]
     },
     "execution_count": 2,
     "metadata": {},
     "output_type": "execute_result"
    }
   ],
   "source": [
    "import numpy as np\n",
    "\n",
    "\n",
    "def game_core_v3(number):\n",
    "    \"\"\"Функция вычисляет число итераций до совпадения с аргументом\n",
    "    методом бинарного поиска\"\"\"\n",
    "    count = 1\n",
    "    predict = 50  # в первом шаге\n",
    "    left_boundary = 1  # левая граница\n",
    "    right_boundary = 101  # правая граница\n",
    "    while predict != number and left_boundary <= right_boundary:\n",
    "        count += 1\n",
    "        if number > predict:\n",
    "            left_boundary = predict+1\n",
    "        else:\n",
    "            right_boundary = predict-1\n",
    "        predict = (left_boundary+right_boundary)//2\n",
    "\n",
    "    return(count)\n",
    "\n",
    "\n",
    "def score_game(func):\n",
    "    count_ls = []\n",
    "    np.random.seed(1)  # фиксируем RANDOM SEED!\n",
    "    random_array = np.random.randint(1, 101, size=(1000))\n",
    "    for number in random_array:\n",
    "        count_ls.append(func(number))\n",
    "    score = int(np.mean(count_ls))\n",
    "    print(f\"Ваш алгоритм угадывает число в среднем за {score} попыток\")\n",
    "\n",
    "    return(score)\n",
    "\n",
    "score_game(game_core_v3)\n"
   ]
  }
 ],
 "metadata": {
  "kernelspec": {
   "display_name": "Python 3",
   "language": "python",
   "name": "python3"
  },
  "language_info": {
   "codemirror_mode": {
    "name": "ipython",
    "version": 3
   },
   "file_extension": ".py",
   "mimetype": "text/x-python",
   "name": "python",
   "nbconvert_exporter": "python",
   "pygments_lexer": "ipython3",
   "version": "3.8.3"
  }
 },
 "nbformat": 4,
 "nbformat_minor": 4
}
